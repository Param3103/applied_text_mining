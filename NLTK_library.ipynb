{
 "cells": [
  {
   "cell_type": "code",
   "execution_count": 408,
   "metadata": {
    "collapsed": true
   },
   "outputs": [],
   "source": [
    "import nltk\n"
   ]
  },
  {
   "cell_type": "code",
   "execution_count": 409,
   "outputs": [],
   "source": [
    "from nltk.book import *\n"
   ],
   "metadata": {
    "collapsed": false,
    "pycharm": {
     "name": "#%%\n"
    }
   }
  },
  {
   "cell_type": "code",
   "execution_count": 410,
   "outputs": [
    {
     "data": {
      "text/plain": "<Text: Wall Street Journal>"
     },
     "execution_count": 410,
     "metadata": {},
     "output_type": "execute_result"
    }
   ],
   "source": [
    "text7\n"
   ],
   "metadata": {
    "collapsed": false,
    "pycharm": {
     "name": "#%%\n"
    }
   }
  },
  {
   "cell_type": "code",
   "execution_count": 411,
   "outputs": [
    {
     "data": {
      "text/plain": "['Pierre',\n 'Vinken',\n ',',\n '61',\n 'years',\n 'old',\n ',',\n 'will',\n 'join',\n 'the',\n 'board',\n 'as',\n 'a',\n 'nonexecutive',\n 'director',\n 'Nov.',\n '29',\n '.']"
     },
     "execution_count": 411,
     "metadata": {},
     "output_type": "execute_result"
    }
   ],
   "source": [
    "sent7\n"
   ],
   "metadata": {
    "collapsed": false,
    "pycharm": {
     "name": "#%%\n"
    }
   }
  },
  {
   "cell_type": "code",
   "execution_count": 412,
   "outputs": [
    {
     "data": {
      "text/plain": "18"
     },
     "execution_count": 412,
     "metadata": {},
     "output_type": "execute_result"
    }
   ],
   "source": [
    "len(sent7)"
   ],
   "metadata": {
    "collapsed": false,
    "pycharm": {
     "name": "#%%\n"
    }
   }
  },
  {
   "cell_type": "code",
   "execution_count": 413,
   "outputs": [
    {
     "data": {
      "text/plain": "100676"
     },
     "execution_count": 413,
     "metadata": {},
     "output_type": "execute_result"
    }
   ],
   "source": [
    "len(text7)\n"
   ],
   "metadata": {
    "collapsed": false,
    "pycharm": {
     "name": "#%%\n"
    }
   }
  },
  {
   "cell_type": "code",
   "execution_count": 414,
   "outputs": [
    {
     "data": {
      "text/plain": "12408"
     },
     "execution_count": 414,
     "metadata": {},
     "output_type": "execute_result"
    }
   ],
   "source": [
    "len(set(text7)) # counts words\n"
   ],
   "metadata": {
    "collapsed": false,
    "pycharm": {
     "name": "#%%\n"
    }
   }
  },
  {
   "cell_type": "code",
   "execution_count": 415,
   "outputs": [
    {
     "data": {
      "text/plain": "['set',\n 'Island',\n 'notify',\n 'Pamplin',\n 'ringer',\n 'prevalance',\n 'Plains',\n '353',\n 'astonishment',\n 'generalizations']"
     },
     "execution_count": 415,
     "metadata": {},
     "output_type": "execute_result"
    }
   ],
   "source": [
    "list(set(text7))[:10]"
   ],
   "metadata": {
    "collapsed": false,
    "pycharm": {
     "name": "#%%\n"
    }
   }
  },
  {
   "cell_type": "code",
   "execution_count": 416,
   "outputs": [],
   "source": [
    "dist = FreqDist(text7)\n",
    "vocab1=dist.keys()"
   ],
   "metadata": {
    "collapsed": false,
    "pycharm": {
     "name": "#%%\n"
    }
   }
  },
  {
   "cell_type": "code",
   "execution_count": 417,
   "outputs": [
    {
     "data": {
      "text/plain": "20"
     },
     "execution_count": 417,
     "metadata": {},
     "output_type": "execute_result"
    }
   ],
   "source": [
    "dist[u'four']\n"
   ],
   "metadata": {
    "collapsed": false,
    "pycharm": {
     "name": "#%%\n"
    }
   }
  },
  {
   "cell_type": "code",
   "execution_count": 418,
   "outputs": [
    {
     "data": {
      "text/plain": "['list', 'listed', 'lists', 'listing', 'listings']"
     },
     "execution_count": 418,
     "metadata": {},
     "output_type": "execute_result"
    }
   ],
   "source": [
    "input1 = \"List listed lists listing listings\"\n",
    "words1 = input1.lower().split(' ')\n",
    "words1\n"
   ],
   "metadata": {
    "collapsed": false,
    "pycharm": {
     "name": "#%%\n"
    }
   }
  },
  {
   "cell_type": "code",
   "execution_count": 419,
   "outputs": [
    {
     "data": {
      "text/plain": "['list', 'list', 'list', 'list', 'list']"
     },
     "execution_count": 419,
     "metadata": {},
     "output_type": "execute_result"
    }
   ],
   "source": [
    "porter = nltk.PorterStemmer()\n",
    "[porter.stem(t) for t in words1] # gives stem of a word\n"
   ],
   "metadata": {
    "collapsed": false,
    "pycharm": {
     "name": "#%%\n"
    }
   }
  },
  {
   "cell_type": "code",
   "execution_count": 419,
   "outputs": [],
   "source": [],
   "metadata": {
    "collapsed": false,
    "pycharm": {
     "name": "#%%\n"
    }
   }
  },
  {
   "cell_type": "code",
   "execution_count": 420,
   "outputs": [
    {
     "data": {
      "text/plain": "['Universal',\n 'Declaration',\n 'of',\n 'Human',\n 'Rights',\n 'Preamble',\n 'Whereas',\n 'recognition',\n 'of',\n 'the',\n 'inherent',\n 'dignity',\n 'and',\n 'of',\n 'the',\n 'equal',\n 'and',\n 'inalienable',\n 'rights',\n 'of']"
     },
     "execution_count": 420,
     "metadata": {},
     "output_type": "execute_result"
    }
   ],
   "source": [
    "udhr = nltk.corpus.udhr.words('English-Latin1')\n",
    "udhr[:20]\n"
   ],
   "metadata": {
    "collapsed": false,
    "pycharm": {
     "name": "#%%\n"
    }
   }
  },
  {
   "cell_type": "code",
   "execution_count": 421,
   "outputs": [
    {
     "data": {
      "text/plain": "['univers',\n 'declar',\n 'of',\n 'human',\n 'right',\n 'preambl',\n 'wherea',\n 'recognit',\n 'of',\n 'the',\n 'inher',\n 'digniti',\n 'and',\n 'of',\n 'the',\n 'equal',\n 'and',\n 'inalien',\n 'right',\n 'of']"
     },
     "execution_count": 421,
     "metadata": {},
     "output_type": "execute_result"
    }
   ],
   "source": [
    "[porter.stem(t) for t in udhr[:20]]"
   ],
   "metadata": {
    "collapsed": false,
    "pycharm": {
     "name": "#%%\n"
    }
   }
  },
  {
   "cell_type": "code",
   "execution_count": 422,
   "outputs": [
    {
     "data": {
      "text/plain": "['Universal',\n 'Declaration',\n 'of',\n 'Human',\n 'Rights',\n 'Preamble',\n 'Whereas',\n 'recognition',\n 'of',\n 'the',\n 'inherent',\n 'dignity',\n 'and',\n 'of',\n 'the',\n 'equal',\n 'and',\n 'inalienable',\n 'right',\n 'of']"
     },
     "execution_count": 422,
     "metadata": {},
     "output_type": "execute_result"
    }
   ],
   "source": [
    "WNLemma=nltk.WordNetLemmatizer()\n",
    "[WNLemma.lemmatize(t) for t in udhr[:20]]\n"
   ],
   "metadata": {
    "collapsed": false,
    "pycharm": {
     "name": "#%%\n"
    }
   }
  },
  {
   "cell_type": "code",
   "execution_count": 423,
   "outputs": [
    {
     "name": "stdout",
     "output_type": "stream",
     "text": [
      "VB: verb, base form\n",
      "    ask assemble assess assign assume atone attention avoid bake balkanize\n",
      "    bank begin behold believe bend benefit bevel beware bless boil bomb\n",
      "    boost brace break bring broil brush build ...\n"
     ]
    }
   ],
   "source": [
    "nltk.help.upenn_tagset(\"VB\")"
   ],
   "metadata": {
    "collapsed": false,
    "pycharm": {
     "name": "#%%\n"
    }
   }
  },
  {
   "cell_type": "code",
   "execution_count": 424,
   "outputs": [
    {
     "data": {
      "text/plain": "[('Pierre', 'NNP'),\n ('Vinken', 'NNP'),\n (',', ','),\n ('61', 'CD'),\n ('years', 'NNS'),\n ('old', 'JJ'),\n (',', ','),\n ('will', 'MD'),\n ('join', 'VB'),\n ('the', 'DT'),\n ('board', 'NN'),\n ('as', 'IN'),\n ('a', 'DT'),\n ('nonexecutive', 'JJ'),\n ('director', 'NN'),\n ('Nov.', 'NNP'),\n ('29', 'CD'),\n ('.', '.'),\n ('Mr.', 'NNP'),\n ('Vinken', 'NNP'),\n ('is', 'VBZ'),\n ('chairman', 'NN'),\n ('of', 'IN'),\n ('Elsevier', 'NNP'),\n ('N.V.', 'NNP'),\n (',', ','),\n ('the', 'DT'),\n ('Dutch', 'NNP'),\n ('publishing', 'NN'),\n ('group', 'NN'),\n ('.', '.'),\n ('Rudolph', 'NNP'),\n ('Agnew', 'NNP'),\n (',', ','),\n ('55', 'CD'),\n ('years', 'NNS'),\n ('old', 'JJ'),\n ('and', 'CC'),\n ('former', 'JJ'),\n ('chairman', 'NN'),\n ('of', 'IN'),\n ('Consolidated', 'NNP'),\n ('Gold', 'NNP'),\n ('Fields', 'NNP'),\n ('PLC', 'NNP'),\n (',', ','),\n ('was', 'VBD'),\n ('named', 'VBN'),\n ('*-1', 'JJ'),\n ('a', 'DT'),\n ('nonexecutive', 'JJ'),\n ('director', 'NN'),\n ('of', 'IN'),\n ('this', 'DT'),\n ('British', 'JJ'),\n ('industrial', 'JJ'),\n ('conglomerate', 'NN'),\n ('.', '.'),\n ('A', 'DT'),\n ('form', 'NN'),\n ('of', 'IN'),\n ('asbestos', 'NN'),\n ('once', 'RB'),\n ('used', 'VBD'),\n ('*', 'JJ'),\n ('*', 'NN'),\n ('to', 'TO'),\n ('make', 'VB'),\n ('Kent', 'NNP'),\n ('cigarette', 'NN'),\n ('filters', 'NNS'),\n ('has', 'VBZ'),\n ('caused', 'VBN'),\n ('a', 'DT'),\n ('high', 'JJ'),\n ('percentage', 'NN'),\n ('of', 'IN'),\n ('cancer', 'NN'),\n ('deaths', 'NNS'),\n ('among', 'IN'),\n ('a', 'DT'),\n ('group', 'NN'),\n ('of', 'IN'),\n ('workers', 'NNS'),\n ('exposed', 'VBN'),\n ('*', 'RB'),\n ('to', 'TO'),\n ('it', 'PRP'),\n ('more', 'JJR'),\n ('than', 'IN'),\n ('30', 'CD'),\n ('years', 'NNS'),\n ('ago', 'RB'),\n (',', ','),\n ('researchers', 'NNS'),\n ('reported', 'VBD'),\n ('0', 'CD'),\n ('*T*-1', 'NN'),\n ('.', '.'),\n ('The', 'DT'),\n ('asbestos', 'NN'),\n ('fiber', 'NN'),\n (',', ','),\n ('crocidolite', 'NN'),\n (',', ','),\n ('is', 'VBZ'),\n ('unusually', 'RB'),\n ('resilient', 'JJ'),\n ('once', 'IN'),\n ('it', 'PRP'),\n ('enters', 'VBZ'),\n ('the', 'DT'),\n ('lungs', 'NNS'),\n (',', ','),\n ('with', 'IN'),\n ('even', 'RB'),\n ('brief', 'JJ'),\n ('exposures', 'NNS'),\n ('to', 'TO'),\n ('it', 'PRP'),\n ('causing', 'VBG'),\n ('symptoms', 'NNS'),\n ('that', 'IN'),\n ('*T*-1', 'NN'),\n ('show', 'VBP'),\n ('up', 'RP'),\n ('decades', 'NNS'),\n ('later', 'RB'),\n (',', ','),\n ('researchers', 'NNS'),\n ('said', 'VBD'),\n ('0', 'CD'),\n ('*T*-2', 'JJ'),\n ('.', '.'),\n ('Lorillard', 'NNP'),\n ('Inc.', 'NNP'),\n (',', ','),\n ('the', 'DT'),\n ('unit', 'NN'),\n ('of', 'IN'),\n ('New', 'NNP'),\n ('York-based', 'JJ'),\n ('Loews', 'NNP'),\n ('Corp.', 'NNP'),\n ('that', 'IN'),\n ('*T*-2', 'NNP'),\n ('makes', 'VBZ'),\n ('Kent', 'NNP'),\n ('cigarettes', 'NNS'),\n (',', ','),\n ('stopped', 'VBD'),\n ('using', 'VBG'),\n ('crocidolite', 'NN'),\n ('in', 'IN'),\n ('its', 'PRP$'),\n ('Micronite', 'NNP'),\n ('cigarette', 'NN'),\n ('filters', 'NNS'),\n ('in', 'IN'),\n ('1956', 'CD'),\n ('.', '.'),\n ('Although', 'IN'),\n ('preliminary', 'JJ'),\n ('findings', 'NNS'),\n ('were', 'VBD'),\n ('reported', 'VBN'),\n ('*-2', 'RB'),\n ('more', 'RBR'),\n ('than', 'IN'),\n ('a', 'DT'),\n ('year', 'NN'),\n ('ago', 'RB'),\n (',', ','),\n ('the', 'DT'),\n ('latest', 'JJS'),\n ('results', 'NNS'),\n ('appear', 'VBP'),\n ('in', 'IN'),\n ('today', 'NN'),\n (\"'s\", 'POS'),\n ('New', 'NNP'),\n ('England', 'NNP'),\n ('Journal', 'NNP'),\n ('of', 'IN'),\n ('Medicine', 'NNP'),\n (',', ','),\n ('a', 'DT'),\n ('forum', 'NN'),\n ('likely', 'JJ'),\n ('*', 'NN'),\n ('to', 'TO'),\n ('bring', 'VB'),\n ('new', 'JJ'),\n ('attention', 'NN'),\n ('to', 'TO'),\n ('the', 'DT'),\n ('problem', 'NN'),\n ('.', '.'),\n ('A', 'DT'),\n ('Lorillard', 'NNP'),\n ('spokewoman', 'NN'),\n ('said', 'VBD'),\n (',', ','),\n ('``', '``'),\n ('This', 'DT'),\n ('is', 'VBZ'),\n ('an', 'DT'),\n ('old', 'JJ'),\n ('story', 'NN'),\n ('.', '.'),\n ('We', 'PRP'),\n (\"'re\", 'VBP'),\n ('talking', 'VBG'),\n ('about', 'IN'),\n ('years', 'NNS'),\n ('ago', 'RB'),\n ('before', 'IN'),\n ('anyone', 'NN'),\n ('heard', 'NN'),\n ('of', 'IN'),\n ('asbestos', 'NNS'),\n ('having', 'VBG'),\n ('any', 'DT'),\n ('questionable', 'JJ'),\n ('properties', 'NNS'),\n ('.', '.'),\n ('There', 'EX'),\n ('is', 'VBZ'),\n ('no', 'DT'),\n ('asbestos', 'NN'),\n ('in', 'IN'),\n ('our', 'PRP$'),\n ('products', 'NNS'),\n ('now', 'RB'),\n ('.', '.'),\n (\"''\", \"''\"),\n ('Neither', 'CC'),\n ('Lorillard', 'NNP'),\n ('nor', 'CC'),\n ('the', 'DT'),\n ('researchers', 'NNS'),\n ('who', 'WP'),\n ('*T*-3', 'VBP'),\n ('studied', 'VBD'),\n ('the', 'DT'),\n ('workers', 'NNS'),\n ('were', 'VBD'),\n ('aware', 'JJ'),\n ('of', 'IN'),\n ('any', 'DT'),\n ('research', 'NN'),\n ('on', 'IN'),\n ('smokers', 'NNS'),\n ('of', 'IN'),\n ('the', 'DT'),\n ('Kent', 'NNP'),\n ('cigarettes', 'NNS'),\n ('.', '.'),\n ('``', '``'),\n ('We', 'PRP'),\n ('have', 'VBP'),\n ('no', 'DT'),\n ('useful', 'JJ'),\n ('information', 'NN'),\n ('on', 'IN'),\n ('whether', 'IN'),\n ('users', 'NNS'),\n ('are', 'VBP'),\n ('at', 'IN'),\n ('risk', 'NN'),\n (',', ','),\n (\"''\", \"''\"),\n ('said', 'VBD'),\n ('*T*-1', 'NNP'),\n ('James', 'NNP'),\n ('A.', 'NNP'),\n ('Talcott', 'NNP'),\n ('of', 'IN'),\n ('Boston', 'NNP'),\n (\"'s\", 'POS'),\n ('Dana-Farber', 'NNP'),\n ('Cancer', 'NNP'),\n ('Institute', 'NNP'),\n ('.', '.'),\n ('Dr.', 'NNP'),\n ('Talcott', 'NNP'),\n ('led', 'VBD'),\n ('a', 'DT'),\n ('team', 'NN'),\n ('of', 'IN'),\n ('researchers', 'NNS'),\n ('from', 'IN'),\n ('the', 'DT'),\n ('National', 'NNP'),\n ('Cancer', 'NNP'),\n ('Institute', 'NNP'),\n ('and', 'CC'),\n ('the', 'DT'),\n ('medical', 'JJ'),\n ('schools', 'NNS'),\n ('of', 'IN'),\n ('Harvard', 'NNP'),\n ('University', 'NNP'),\n ('and', 'CC'),\n ('Boston', 'NNP'),\n ('University', 'NNP'),\n ('.', '.'),\n ('The', 'DT'),\n ('Lorillard', 'NNP'),\n ('spokeswoman', 'NN'),\n ('said', 'VBD'),\n ('0', 'CD'),\n ('asbestos', 'NN'),\n ('was', 'VBD'),\n ('used', 'VBN'),\n ('*-1', 'NN'),\n ('in', 'IN'),\n ('``', '``'),\n ('very', 'RB'),\n ('modest', 'JJ'),\n ('amounts', 'NNS'),\n (\"''\", \"''\"),\n ('in', 'IN'),\n ('*', 'JJ'),\n ('making', 'VBG'),\n ('paper', 'NN'),\n ('for', 'IN'),\n ('the', 'DT'),\n ('filters', 'NNS'),\n ('in', 'IN'),\n ('the', 'DT'),\n ('early', 'JJ'),\n ('1950s', 'CD'),\n ('and', 'CC'),\n ('replaced', 'VBD'),\n ('*-1', 'NN'),\n ('with', 'IN'),\n ('a', 'DT'),\n ('different', 'JJ'),\n ('type', 'NN'),\n ('of', 'IN'),\n ('filter', 'NN'),\n ('in', 'IN'),\n ('1956', 'CD'),\n ('.', '.'),\n ('From', 'IN'),\n ('1953', 'CD'),\n ('to', 'TO'),\n ('1955', 'CD'),\n (',', ','),\n ('9.8', 'CD'),\n ('billion', 'CD'),\n ('Kent', 'NNP'),\n ('cigarettes', 'NNS'),\n ('with', 'IN'),\n ('the', 'DT'),\n ('filters', 'NNS'),\n ('were', 'VBD'),\n ('sold', 'VBN'),\n ('*-3', 'JJ'),\n (',', ','),\n ('the', 'DT'),\n ('company', 'NN'),\n ('said', 'VBD'),\n ('0', 'CD'),\n ('*T*-1', 'JJ'),\n ('.', '.'),\n ('Among', 'IN'),\n ('33', 'CD'),\n ('men', 'NNS'),\n ('who', 'WP'),\n ('*T*-4', 'VBP'),\n ('worked', 'VBN'),\n ('closely', 'RB'),\n ('with', 'IN'),\n ('the', 'DT'),\n ('substance', 'NN'),\n (',', ','),\n ('28', 'CD'),\n ('*ICH*-1', 'NN'),\n ('have', 'VBP'),\n ('died', 'VBN'),\n ('--', ':'),\n ('more', 'RBR'),\n ('than', 'IN'),\n ('three', 'CD'),\n ('times', 'NNS'),\n ('the', 'DT'),\n ('expected', 'JJ'),\n ('number', 'NN'),\n ('.', '.'),\n ('Four', 'CD'),\n ('of', 'IN'),\n ('the', 'DT'),\n ('five', 'CD'),\n ('surviving', 'VBG'),\n ('workers', 'NNS'),\n ('have', 'VBP'),\n ('asbestos-related', 'JJ'),\n ('diseases', 'NNS'),\n (',', ','),\n ('including', 'VBG'),\n ('three', 'CD'),\n ('with', 'IN'),\n ('recently', 'RB'),\n ('diagnosed', 'VBN'),\n ('cancer', 'NN'),\n ('.', '.'),\n ('The', 'DT'),\n ('total', 'NN'),\n ('of', 'IN'),\n ('18', 'CD'),\n ('deaths', 'NNS'),\n ('from', 'IN'),\n ('malignant', 'JJ'),\n ('mesothelioma', 'NN'),\n (',', ','),\n ('lung', 'NN'),\n ('cancer', 'NN'),\n ('and', 'CC'),\n ('asbestosis', 'NN'),\n ('was', 'VBD'),\n ('far', 'RB'),\n ('higher', 'JJR'),\n ('than', 'IN'),\n ('*', 'RB'),\n ('expected', 'VBN'),\n ('*?*', 'NN'),\n (',', ','),\n ('the', 'DT'),\n ('researchers', 'NNS'),\n ('said', 'VBD'),\n ('0', 'CD'),\n ('*T*-1', 'NN'),\n ('.', '.'),\n ('``', '``'),\n ('The', 'DT'),\n ('morbidity', 'NN'),\n ('rate', 'NN'),\n ('is', 'VBZ'),\n ('a', 'DT'),\n ('striking', 'JJ'),\n ('finding', 'NN'),\n ('among', 'IN'),\n ('those', 'DT'),\n ('of', 'IN'),\n ('us', 'PRP'),\n ('who', 'WP'),\n ('*T*-5', 'VBP'),\n ('study', 'NN'),\n ('asbestos-related', 'JJ'),\n ('diseases', 'NNS'),\n (',', ','),\n (\"''\", \"''\"),\n ('said', 'VBD'),\n ('*T*-1', 'JJ'),\n ('Dr.', 'NNP'),\n ('Talcott', 'NNP'),\n ('.', '.'),\n ('The', 'DT'),\n ('percentage', 'NN'),\n ('of', 'IN'),\n ('lung', 'NN'),\n ('cancer', 'NN'),\n ('deaths', 'NNS'),\n ('among', 'IN'),\n ('the', 'DT'),\n ('workers', 'NNS'),\n ('at', 'IN'),\n ('the', 'DT'),\n ('West', 'NNP'),\n ('Groton', 'NNP'),\n (',', ','),\n ('Mass.', 'NNP'),\n (',', ','),\n ('paper', 'NN'),\n ('factory', 'NN'),\n ('appears', 'VBZ'),\n ('*-1', 'JJ'),\n ('to', 'TO'),\n ('be', 'VB'),\n ('the', 'DT'),\n ('highest', 'JJS'),\n ('for', 'IN'),\n ('any', 'DT'),\n ('asbestos', 'JJ'),\n ('workers', 'NNS'),\n ('studied', 'VBD'),\n ('*', 'NNP'),\n ('in', 'IN'),\n ('Western', 'NNP'),\n ('industrialized', 'JJ'),\n ('countries', 'NNS'),\n (',', ','),\n ('he', 'PRP'),\n ('said', 'VBD'),\n ('0', 'CD'),\n ('*T*-2', 'NN'),\n ('.', '.'),\n ('The', 'DT'),\n ('plant', 'NN'),\n (',', ','),\n ('which', 'WDT'),\n ('*T*-1', 'NNP'),\n ('is', 'VBZ'),\n ('owned', 'VBN'),\n ('*-4', 'JJ'),\n ('by', 'IN'),\n ('Hollingsworth', 'NNP'),\n ('&', 'CC'),\n ('Vose', 'NNP'),\n ('Co.', 'NNP'),\n (',', ','),\n ('was', 'VBD'),\n ('under', 'IN'),\n ('contract', 'NN'),\n ('*ICH*-2', 'JJ'),\n ('with', 'IN'),\n ('Lorillard', 'NNP'),\n ('*', 'NN'),\n ('to', 'TO'),\n ('make', 'VB'),\n ('the', 'DT'),\n ('cigarette', 'NN'),\n ('filters', 'NNS'),\n ('.', '.'),\n ('The', 'DT'),\n ('finding', 'NN'),\n ('probably', 'RB'),\n ('will', 'MD'),\n ('support', 'VB'),\n ('those', 'DT'),\n ('who', 'WP'),\n ('*T*-6', 'VBP'),\n ('argue', 'NN'),\n ('that', 'IN'),\n ('the', 'DT'),\n ('U.S.', 'NNP'),\n ('should', 'MD'),\n ('regulate', 'VB'),\n ('the', 'DT'),\n ('class', 'NN'),\n ('of', 'IN'),\n ('asbestos', 'NN'),\n ('including', 'VBG'),\n ('crocidolite', 'NN'),\n ('more', 'RBR'),\n ('stringently', 'RB'),\n ('than', 'IN'),\n ('the', 'DT'),\n ('common', 'JJ'),\n ('kind', 'NN'),\n ('of', 'IN'),\n ('asbestos', 'NN'),\n (',', ','),\n ('chrysotile', 'NN'),\n (',', ','),\n ('found', 'VBN'),\n ('*', 'RB'),\n ('in', 'IN'),\n ('most', 'JJS'),\n ('schools', 'NNS'),\n ('and', 'CC'),\n ('other', 'JJ'),\n ('buildings', 'NNS'),\n (',', ','),\n ('Dr.', 'NNP'),\n ('Talcott', 'NNP'),\n ('said', 'VBD'),\n ('0', 'CD'),\n ('*T*-1', 'NN'),\n ('.', '.'),\n ('The', 'DT'),\n ('U.S.', 'NNP'),\n ('is', 'VBZ'),\n ('one', 'CD'),\n ('of', 'IN'),\n ('the', 'DT'),\n ('few', 'JJ'),\n ('industrialized', 'JJ'),\n ('nations', 'NNS'),\n ('that', 'IN'),\n ('*T*-7', 'NN'),\n ('does', 'VBZ'),\n (\"n't\", 'RB'),\n ('have', 'VB'),\n ('a', 'DT'),\n ('higher', 'JJR'),\n ('standard', 'NN'),\n ('of', 'IN'),\n ('regulation', 'NN'),\n ('for', 'IN'),\n ('the', 'DT'),\n ('smooth', 'JJ'),\n (',', ','),\n ('needle-like', 'JJ'),\n ('fibers', 'NNS'),\n ('such', 'JJ'),\n ('as', 'IN'),\n ('crocidolite', 'NN'),\n ('that', 'IN'),\n ('*T*-1', 'NN'),\n ('are', 'VBP'),\n ('classified', 'VBN'),\n ('*-5', 'JJ'),\n ('as', 'IN'),\n ('amphobiles', 'NNS'),\n (',', ','),\n ('according', 'VBG'),\n ('to', 'TO'),\n ('Brooke', 'NNP'),\n ('T.', 'NNP'),\n ('Mossman', 'NNP'),\n (',', ','),\n ('a', 'DT'),\n ('professor', 'NN'),\n ('of', 'IN'),\n ('pathlogy', 'NN'),\n ('at', 'IN'),\n ('the', 'DT'),\n ('University', 'NNP'),\n ('of', 'IN'),\n ('Vermont', 'NNP'),\n ('College', 'NNP'),\n ('of', 'IN'),\n ('Medicine', 'NNP'),\n ('.', '.'),\n ('More', 'JJR'),\n ('common', 'JJ'),\n ('chrysotile', 'NN'),\n ('fibers', 'NNS'),\n ('are', 'VBP'),\n ('curly', 'JJ'),\n ('and', 'CC'),\n ('are', 'VBP'),\n ('more', 'RBR'),\n ('easily', 'RB'),\n ('rejected', 'VBN'),\n ('*-1', 'NN'),\n ('by', 'IN'),\n ('the', 'DT'),\n ('body', 'NN'),\n (',', ','),\n ('Dr.', 'NNP'),\n ('Mossman', 'NNP'),\n ('explained', 'VBD'),\n ('0', 'CD'),\n ('*T*-2', 'JJ'),\n ('.', '.'),\n ('In', 'IN'),\n ('July', 'NNP'),\n (',', ','),\n ('the', 'DT'),\n ('Environmental', 'NNP'),\n ('Protection', 'NNP'),\n ('Agency', 'NNP'),\n ('imposed', 'VBD'),\n ('a', 'DT'),\n ('gradual', 'JJ'),\n ('ban', 'NN'),\n ('on', 'IN'),\n ('virtually', 'RB'),\n ('all', 'DT'),\n ('uses', 'NNS'),\n ('of', 'IN'),\n ('asbestos', 'NN'),\n ('.', '.'),\n ('By', 'IN'),\n ('1997', 'CD'),\n (',', ','),\n ('almost', 'RB'),\n ('all', 'DT'),\n ('remaining', 'VBG'),\n ('uses', 'NNS'),\n ('of', 'IN'),\n ('cancer-causing', 'JJ'),\n ('asbestos', 'NN'),\n ('will', 'MD'),\n ('be', 'VB'),\n ('outlawed', 'VBN'),\n ('*-6', 'JJ'),\n ('.', '.'),\n ('About', 'IN'),\n ('160', 'CD'),\n ('workers', 'NNS'),\n ('at', 'IN'),\n ('a', 'DT'),\n ('factory', 'NN'),\n ('that', 'IN'),\n ('*T*-8', 'JJ'),\n ('made', 'VBD'),\n ('paper', 'NN'),\n ('for', 'IN'),\n ('the', 'DT'),\n ('Kent', 'NNP'),\n ('filters', 'NNS'),\n ('were', 'VBD'),\n ('exposed', 'VBN'),\n ('*-7', 'JJ'),\n ('to', 'TO'),\n ('asbestos', 'VB'),\n ('in', 'IN'),\n ('the', 'DT'),\n ('1950s', 'NNS'),\n ('.', '.'),\n ('Areas', 'NNP'),\n ('of', 'IN'),\n ('the', 'DT'),\n ('factory', 'NN'),\n ('*ICH*-2', 'JJ'),\n ('were', 'VBD'),\n ('particularly', 'RB'),\n ('dusty', 'JJ'),\n ('where', 'WRB'),\n ('the', 'DT'),\n ('crocidolite', 'NN'),\n ('was', 'VBD'),\n ('used', 'VBN'),\n ('*-8', 'JJ'),\n ('*T*-1', 'JJ'),\n ('.', '.'),\n ('Workers', 'NNS'),\n ('dumped', 'VBD'),\n ('large', 'JJ'),\n ('burlap', 'NN'),\n ('sacks', 'NNS'),\n ('of', 'IN'),\n ('the', 'DT'),\n ('imported', 'VBN'),\n ('material', 'NN'),\n ('into', 'IN'),\n ('a', 'DT'),\n ('huge', 'JJ'),\n ('bin', 'NN'),\n (',', ','),\n ('poured', 'VBN'),\n ('in', 'IN'),\n ('cotton', 'NN'),\n ('and', 'CC'),\n ('acetate', 'NN'),\n ('fibers', 'NNS'),\n ('and', 'CC'),\n ('mechanically', 'RB'),\n ('mixed', 'JJ'),\n ('the', 'DT'),\n ('dry', 'JJ'),\n ('fibers', 'NNS'),\n ('in', 'IN'),\n ('a', 'DT'),\n ('process', 'NN'),\n ('used', 'VBN'),\n ('*', 'NNP'),\n ('*', 'NNP'),\n ('to', 'TO'),\n ('make', 'VB'),\n ('filters', 'NNS'),\n ('.', '.'),\n ('Workers', 'NNS'),\n ('described', 'VBD'),\n ('``', '``'),\n ('clouds', 'NN'),\n ('of', 'IN'),\n ('blue', 'JJ'),\n ('dust', 'NN'),\n (\"''\", \"''\"),\n ('that', 'IN'),\n ('*T*-1', 'JJ'),\n ('hung', 'NN'),\n ('over', 'IN'),\n ('parts', 'NNS'),\n ('of', 'IN'),\n ('the', 'DT'),\n ('factory', 'NN'),\n (',', ','),\n ('even', 'RB'),\n ('though', 'IN'),\n ('exhaust', 'JJ'),\n ('fans', 'NNS'),\n ('ventilated', 'VBD'),\n ('the', 'DT'),\n ('area', 'NN'),\n ('.', '.'),\n ('``', '``'),\n ('There', 'EX'),\n (\"'s\", 'VBZ'),\n ('no', 'DT'),\n ('question', 'NN'),\n ('that', 'IN'),\n ('some', 'DT'),\n ('of', 'IN'),\n ('those', 'DT'),\n ('workers', 'NNS'),\n ('and', 'CC'),\n ('managers', 'NNS'),\n ('contracted', 'VBD'),\n ('asbestos-related', 'JJ'),\n ('diseases', 'NNS'),\n (',', ','),\n (\"''\", \"''\"),\n ('said', 'VBD'),\n ('*T*-1', 'NNP'),\n ('Darrell', 'NNP'),\n ('Phillips', 'NNP'),\n (',', ','),\n ('vice', 'NN'),\n ('president', 'NN'),\n ('of', 'IN'),\n ('human', 'JJ'),\n ('resources', 'NNS'),\n ('for', 'IN'),\n ('Hollingsworth', 'NNP'),\n ('&', 'CC'),\n ('Vose', 'NNP'),\n ('.', '.'),\n ('``', '``'),\n ('But', 'CC'),\n ('you', 'PRP'),\n ('have', 'VBP'),\n ('*-1', 'JJ'),\n ('to', 'TO'),\n ('recognize', 'VB'),\n ('that', 'IN'),\n ('these', 'DT'),\n ('events', 'NNS'),\n ('took', 'VBD'),\n ('place', 'NN'),\n ('35', 'CD'),\n ('years', 'NNS'),\n ('ago', 'RB'),\n ('.', '.'),\n ('It', 'PRP'),\n ('has', 'VBZ'),\n ('no', 'DT'),\n ('bearing', 'NN'),\n ('on', 'IN'),\n ('our', 'PRP$'),\n ('work', 'NN'),\n ('force', 'NN'),\n ('today', 'NN'),\n ('.', '.'),\n ('Yields', 'NNS'),\n ('on', 'IN'),\n ('money-market', 'JJ'),\n ('mutual', 'JJ'),\n ('funds', 'NNS'),\n ('continued', 'VBD'),\n ('*-1', 'JJ'),\n ('to', 'TO'),\n ('slide', 'VB'),\n (',', ','),\n ('amid', 'IN'),\n ('signs', 'NNS'),\n ('that', 'IN'),\n ('portfolio', 'NN'),\n ('managers', 'NNS'),\n ('expect', 'VBP'),\n ('further', 'JJ'),\n ('declines', 'NNS'),\n ('in', 'IN'),\n ('interest', 'NN'),\n ('rates', 'NNS'),\n ('.', '.'),\n ('The', 'DT'),\n ('average', 'JJ'),\n ('seven-day', 'JJ'),\n ('compound', 'NN'),\n ('yield', 'NN'),\n ('of', 'IN'),\n ('the', 'DT'),\n ('400', 'CD'),\n ('taxable', 'JJ'),\n ('funds', 'NNS'),\n ('tracked', 'VBN'),\n ('*', 'NNS'),\n ('by', 'IN'),\n ('IBC', 'NNP'),\n (\"'s\", 'POS'),\n ('Money', 'NNP'),\n ('Fund', 'NNP'),\n ('Report', 'NNP'),\n ('eased', 'VBD'),\n ('a', 'DT'),\n ('fraction', 'NN'),\n ('of', 'IN'),\n ('a', 'DT'),\n ('percentage', 'NN'),\n ('point', 'NN'),\n ('to', 'TO'),\n ('8.45', 'CD'),\n ('%', 'NN'),\n ('from', 'IN'),\n ('8.47', 'CD'),\n ('%', 'NN'),\n ('for', 'IN'),\n ('the', 'DT'),\n ('week', 'NN'),\n ('ended', 'VBD'),\n ('Tuesday', 'NNP'),\n ('.', '.'),\n ('Compound', 'NNP'),\n ('yields', 'NNS'),\n ('assume', 'VBP'),\n ('reinvestment', 'NN'),\n ('of', 'IN'),\n ('dividends', 'NNS'),\n ('and', 'CC'),\n ('that', 'IN'),\n ('the', 'DT'),\n ('current', 'JJ'),\n ('yield', 'NN'),\n ('continues', 'VBZ'),\n ('for', 'IN'),\n ('a', 'DT'),\n ('year', 'NN'),\n ('.', '.'),\n ('Average', 'NNP'),\n ('maturity', 'NN'),\n ('of', 'IN'),\n ('the', 'DT'),\n ('funds', 'NNS'),\n (\"'\", 'POS'),\n ('investments', 'NNS'),\n ('lengthened', 'VBN'),\n ('by', 'IN'),\n ('a', 'DT'),\n ('day', 'NN'),\n ('to', 'TO'),\n ('41', 'CD'),\n ('days', 'NNS'),\n (',', ','),\n ('the', 'DT'),\n ('longest', 'JJS'),\n ('since', 'IN'),\n ('early', 'JJ'),\n ('August', 'NNP'),\n (',', ','),\n ('according', 'VBG'),\n ('to', 'TO'),\n ('Donoghue', 'NNP'),\n (\"'s\", 'POS'),\n ('.', '.'),\n ('Longer', 'JJR'),\n ('maturities', 'NNS'),\n ('are', 'VBP'),\n ('thought', 'VBN'),\n ('*-1', 'JJ'),\n ('to', 'TO'),\n ('indicate', 'VB'),\n ('declining', 'VBG'),\n ('interest', 'NN'),\n ('rates', 'NNS'),\n ('because', 'IN'),\n ('they', 'PRP'),\n ('permit', 'VBP'),\n ('portfolio', 'NN'),\n ('managers', 'NNS'),\n ('to', 'TO'),\n ('retain', 'VB'),\n ('relatively', 'RB'),\n ('higher', 'JJR'),\n ('rates', 'NNS'),\n ('for', 'IN'),\n ('a', 'DT'),\n ('longer', 'JJR'),\n ('period', 'NN'),\n ('.', '.'),\n ('Shorter', 'JJR'),\n ('maturities', 'NNS'),\n ('are', 'VBP'),\n ('considered', 'VBN'),\n ('*-9', 'JJ'),\n ('a', 'DT'),\n ('sign', 'NN'),\n ('of', 'IN'),\n ('rising', 'VBG'),\n ('rates', 'NNS'),\n ('because', 'IN'),\n ('portfolio', 'NN'),\n ('managers', 'NNS'),\n ('can', 'MD'),\n ('capture', 'VB'),\n ('higher', 'JJR'),\n ('rates', 'NNS'),\n ('sooner', 'RBR'),\n ('.', '.'),\n ('The', 'DT'),\n ('average', 'JJ'),\n ('maturity', 'NN'),\n ('for', 'IN'),\n ('funds', 'NNS'),\n ('open', 'JJ'),\n ('only', 'RB'),\n ('to', 'TO'),\n ('institutions', 'NNS'),\n (',', ','),\n ('considered', 'VBN'),\n ('by', 'IN'),\n ('some', 'DT'),\n ('*', 'NN'),\n ('to', 'TO'),\n ...]"
     },
     "execution_count": 424,
     "metadata": {},
     "output_type": "execute_result"
    }
   ],
   "source": [
    "nltk.pos_tag(text7)"
   ],
   "metadata": {
    "collapsed": false,
    "pycharm": {
     "name": "#%%\n"
    }
   }
  },
  {
   "cell_type": "code",
   "execution_count": 425,
   "outputs": [
    {
     "name": "stdout",
     "output_type": "stream",
     "text": [
      "(S (NP Alice) (VP (V loves) (NP Bob)))\n"
     ]
    }
   ],
   "source": [
    "text15 = nltk.word_tokenize(\"Alice loves Bob\")\n",
    "grammar = nltk.CFG.fromstring(\"\"\"\n",
    "S -> NP VP\n",
    "VP -> V NP\n",
    "NP -> \"Alice\" | \"Bob\"\n",
    "V -> \"loves\"\n",
    "\"\"\")\n",
    "\n",
    "parser = nltk.ChartParser(grammar=grammar)\n",
    "trees = parser.parse_all(text15)\n",
    "for tree in trees:\n",
    "    print(tree)\n"
   ],
   "metadata": {
    "collapsed": false,
    "pycharm": {
     "name": "#%%\n"
    }
   }
  },
  {
   "cell_type": "code",
   "execution_count": 426,
   "outputs": [
    {
     "ename": "OSError",
     "evalue": "No such file or directory: 'C:\\\\Users\\\\param\\\\AppData\\\\Roaming\\\\nltk_data\\\\corpora\\\\treebank\\\\combined\\\\hello.mrg'",
     "output_type": "error",
     "traceback": [
      "\u001B[1;31m---------------------------------------------------------------------------\u001B[0m",
      "\u001B[1;31mOSError\u001B[0m                                   Traceback (most recent call last)",
      "\u001B[1;32m<ipython-input-426-713d110f9a85>\u001B[0m in \u001B[0;36m<module>\u001B[1;34m\u001B[0m\n\u001B[0;32m      1\u001B[0m \u001B[1;32mfrom\u001B[0m \u001B[0mnltk\u001B[0m\u001B[1;33m.\u001B[0m\u001B[0mcorpus\u001B[0m \u001B[1;32mimport\u001B[0m \u001B[0mtreebank\u001B[0m\u001B[1;33m\u001B[0m\u001B[1;33m\u001B[0m\u001B[0m\n\u001B[1;32m----> 2\u001B[1;33m \u001B[0mtreebank\u001B[0m\u001B[1;33m.\u001B[0m\u001B[0mparsed_sents\u001B[0m\u001B[1;33m(\u001B[0m\u001B[1;34m\"hello.mrg\"\u001B[0m\u001B[1;33m)\u001B[0m\u001B[1;33m[\u001B[0m\u001B[1;36m0\u001B[0m\u001B[1;33m]\u001B[0m\u001B[1;33m\u001B[0m\u001B[1;33m\u001B[0m\u001B[0m\n\u001B[0m\u001B[0;32m      3\u001B[0m \u001B[1;33m\u001B[0m\u001B[0m\n",
      "\u001B[1;32m~\\anaconda3\\lib\\site-packages\\nltk\\corpus\\reader\\api.py\u001B[0m in \u001B[0;36mparsed_sents\u001B[1;34m(self, fileids)\u001B[0m\n\u001B[0;32m    449\u001B[0m             [\n\u001B[0;32m    450\u001B[0m                 \u001B[0mStreamBackedCorpusView\u001B[0m\u001B[1;33m(\u001B[0m\u001B[0mfileid\u001B[0m\u001B[1;33m,\u001B[0m \u001B[0mreader\u001B[0m\u001B[1;33m,\u001B[0m \u001B[0mencoding\u001B[0m\u001B[1;33m=\u001B[0m\u001B[0menc\u001B[0m\u001B[1;33m)\u001B[0m\u001B[1;33m\u001B[0m\u001B[1;33m\u001B[0m\u001B[0m\n\u001B[1;32m--> 451\u001B[1;33m                 \u001B[1;32mfor\u001B[0m \u001B[0mfileid\u001B[0m\u001B[1;33m,\u001B[0m \u001B[0menc\u001B[0m \u001B[1;32min\u001B[0m \u001B[0mself\u001B[0m\u001B[1;33m.\u001B[0m\u001B[0mabspaths\u001B[0m\u001B[1;33m(\u001B[0m\u001B[0mfileids\u001B[0m\u001B[1;33m,\u001B[0m \u001B[1;32mTrue\u001B[0m\u001B[1;33m)\u001B[0m\u001B[1;33m\u001B[0m\u001B[1;33m\u001B[0m\u001B[0m\n\u001B[0m\u001B[0;32m    452\u001B[0m             ]\n\u001B[0;32m    453\u001B[0m         )\n",
      "\u001B[1;32m~\\anaconda3\\lib\\site-packages\\nltk\\corpus\\reader\\api.py\u001B[0m in \u001B[0;36mabspaths\u001B[1;34m(self, fileids, include_encoding, include_fileid)\u001B[0m\n\u001B[0;32m    192\u001B[0m             \u001B[0mfileids\u001B[0m \u001B[1;33m=\u001B[0m \u001B[1;33m[\u001B[0m\u001B[0mfileids\u001B[0m\u001B[1;33m]\u001B[0m\u001B[1;33m\u001B[0m\u001B[1;33m\u001B[0m\u001B[0m\n\u001B[0;32m    193\u001B[0m \u001B[1;33m\u001B[0m\u001B[0m\n\u001B[1;32m--> 194\u001B[1;33m         \u001B[0mpaths\u001B[0m \u001B[1;33m=\u001B[0m \u001B[1;33m[\u001B[0m\u001B[0mself\u001B[0m\u001B[1;33m.\u001B[0m\u001B[0m_root\u001B[0m\u001B[1;33m.\u001B[0m\u001B[0mjoin\u001B[0m\u001B[1;33m(\u001B[0m\u001B[0mf\u001B[0m\u001B[1;33m)\u001B[0m \u001B[1;32mfor\u001B[0m \u001B[0mf\u001B[0m \u001B[1;32min\u001B[0m \u001B[0mfileids\u001B[0m\u001B[1;33m]\u001B[0m\u001B[1;33m\u001B[0m\u001B[1;33m\u001B[0m\u001B[0m\n\u001B[0m\u001B[0;32m    195\u001B[0m \u001B[1;33m\u001B[0m\u001B[0m\n\u001B[0;32m    196\u001B[0m         \u001B[1;32mif\u001B[0m \u001B[0minclude_encoding\u001B[0m \u001B[1;32mand\u001B[0m \u001B[0minclude_fileid\u001B[0m\u001B[1;33m:\u001B[0m\u001B[1;33m\u001B[0m\u001B[1;33m\u001B[0m\u001B[0m\n",
      "\u001B[1;32m~\\anaconda3\\lib\\site-packages\\nltk\\corpus\\reader\\api.py\u001B[0m in \u001B[0;36m<listcomp>\u001B[1;34m(.0)\u001B[0m\n\u001B[0;32m    192\u001B[0m             \u001B[0mfileids\u001B[0m \u001B[1;33m=\u001B[0m \u001B[1;33m[\u001B[0m\u001B[0mfileids\u001B[0m\u001B[1;33m]\u001B[0m\u001B[1;33m\u001B[0m\u001B[1;33m\u001B[0m\u001B[0m\n\u001B[0;32m    193\u001B[0m \u001B[1;33m\u001B[0m\u001B[0m\n\u001B[1;32m--> 194\u001B[1;33m         \u001B[0mpaths\u001B[0m \u001B[1;33m=\u001B[0m \u001B[1;33m[\u001B[0m\u001B[0mself\u001B[0m\u001B[1;33m.\u001B[0m\u001B[0m_root\u001B[0m\u001B[1;33m.\u001B[0m\u001B[0mjoin\u001B[0m\u001B[1;33m(\u001B[0m\u001B[0mf\u001B[0m\u001B[1;33m)\u001B[0m \u001B[1;32mfor\u001B[0m \u001B[0mf\u001B[0m \u001B[1;32min\u001B[0m \u001B[0mfileids\u001B[0m\u001B[1;33m]\u001B[0m\u001B[1;33m\u001B[0m\u001B[1;33m\u001B[0m\u001B[0m\n\u001B[0m\u001B[0;32m    195\u001B[0m \u001B[1;33m\u001B[0m\u001B[0m\n\u001B[0;32m    196\u001B[0m         \u001B[1;32mif\u001B[0m \u001B[0minclude_encoding\u001B[0m \u001B[1;32mand\u001B[0m \u001B[0minclude_fileid\u001B[0m\u001B[1;33m:\u001B[0m\u001B[1;33m\u001B[0m\u001B[1;33m\u001B[0m\u001B[0m\n",
      "\u001B[1;32m~\\anaconda3\\lib\\site-packages\\nltk\\data.py\u001B[0m in \u001B[0;36mjoin\u001B[1;34m(self, fileid)\u001B[0m\n\u001B[0;32m    332\u001B[0m     \u001B[1;32mdef\u001B[0m \u001B[0mjoin\u001B[0m\u001B[1;33m(\u001B[0m\u001B[0mself\u001B[0m\u001B[1;33m,\u001B[0m \u001B[0mfileid\u001B[0m\u001B[1;33m)\u001B[0m\u001B[1;33m:\u001B[0m\u001B[1;33m\u001B[0m\u001B[1;33m\u001B[0m\u001B[0m\n\u001B[0;32m    333\u001B[0m         \u001B[0m_path\u001B[0m \u001B[1;33m=\u001B[0m \u001B[0mos\u001B[0m\u001B[1;33m.\u001B[0m\u001B[0mpath\u001B[0m\u001B[1;33m.\u001B[0m\u001B[0mjoin\u001B[0m\u001B[1;33m(\u001B[0m\u001B[0mself\u001B[0m\u001B[1;33m.\u001B[0m\u001B[0m_path\u001B[0m\u001B[1;33m,\u001B[0m \u001B[0mfileid\u001B[0m\u001B[1;33m)\u001B[0m\u001B[1;33m\u001B[0m\u001B[1;33m\u001B[0m\u001B[0m\n\u001B[1;32m--> 334\u001B[1;33m         \u001B[1;32mreturn\u001B[0m \u001B[0mFileSystemPathPointer\u001B[0m\u001B[1;33m(\u001B[0m\u001B[0m_path\u001B[0m\u001B[1;33m)\u001B[0m\u001B[1;33m\u001B[0m\u001B[1;33m\u001B[0m\u001B[0m\n\u001B[0m\u001B[0;32m    335\u001B[0m \u001B[1;33m\u001B[0m\u001B[0m\n\u001B[0;32m    336\u001B[0m     \u001B[1;32mdef\u001B[0m \u001B[0m__repr__\u001B[0m\u001B[1;33m(\u001B[0m\u001B[0mself\u001B[0m\u001B[1;33m)\u001B[0m\u001B[1;33m:\u001B[0m\u001B[1;33m\u001B[0m\u001B[1;33m\u001B[0m\u001B[0m\n",
      "\u001B[1;32m~\\anaconda3\\lib\\site-packages\\nltk\\compat.py\u001B[0m in \u001B[0;36m_decorator\u001B[1;34m(*args, **kwargs)\u001B[0m\n\u001B[0;32m     39\u001B[0m     \u001B[1;32mdef\u001B[0m \u001B[0m_decorator\u001B[0m\u001B[1;33m(\u001B[0m\u001B[1;33m*\u001B[0m\u001B[0margs\u001B[0m\u001B[1;33m,\u001B[0m \u001B[1;33m**\u001B[0m\u001B[0mkwargs\u001B[0m\u001B[1;33m)\u001B[0m\u001B[1;33m:\u001B[0m\u001B[1;33m\u001B[0m\u001B[1;33m\u001B[0m\u001B[0m\n\u001B[0;32m     40\u001B[0m         \u001B[0margs\u001B[0m \u001B[1;33m=\u001B[0m \u001B[1;33m(\u001B[0m\u001B[0margs\u001B[0m\u001B[1;33m[\u001B[0m\u001B[1;36m0\u001B[0m\u001B[1;33m]\u001B[0m\u001B[1;33m,\u001B[0m \u001B[0madd_py3_data\u001B[0m\u001B[1;33m(\u001B[0m\u001B[0margs\u001B[0m\u001B[1;33m[\u001B[0m\u001B[1;36m1\u001B[0m\u001B[1;33m]\u001B[0m\u001B[1;33m)\u001B[0m\u001B[1;33m)\u001B[0m \u001B[1;33m+\u001B[0m \u001B[0margs\u001B[0m\u001B[1;33m[\u001B[0m\u001B[1;36m2\u001B[0m\u001B[1;33m:\u001B[0m\u001B[1;33m]\u001B[0m\u001B[1;33m\u001B[0m\u001B[1;33m\u001B[0m\u001B[0m\n\u001B[1;32m---> 41\u001B[1;33m         \u001B[1;32mreturn\u001B[0m \u001B[0minit_func\u001B[0m\u001B[1;33m(\u001B[0m\u001B[1;33m*\u001B[0m\u001B[0margs\u001B[0m\u001B[1;33m,\u001B[0m \u001B[1;33m**\u001B[0m\u001B[0mkwargs\u001B[0m\u001B[1;33m)\u001B[0m\u001B[1;33m\u001B[0m\u001B[1;33m\u001B[0m\u001B[0m\n\u001B[0m\u001B[0;32m     42\u001B[0m \u001B[1;33m\u001B[0m\u001B[0m\n\u001B[0;32m     43\u001B[0m     \u001B[1;32mreturn\u001B[0m \u001B[0mwraps\u001B[0m\u001B[1;33m(\u001B[0m\u001B[0minit_func\u001B[0m\u001B[1;33m)\u001B[0m\u001B[1;33m(\u001B[0m\u001B[0m_decorator\u001B[0m\u001B[1;33m)\u001B[0m\u001B[1;33m\u001B[0m\u001B[1;33m\u001B[0m\u001B[0m\n",
      "\u001B[1;32m~\\anaconda3\\lib\\site-packages\\nltk\\data.py\u001B[0m in \u001B[0;36m__init__\u001B[1;34m(self, _path)\u001B[0m\n\u001B[0;32m    310\u001B[0m         \u001B[0m_path\u001B[0m \u001B[1;33m=\u001B[0m \u001B[0mos\u001B[0m\u001B[1;33m.\u001B[0m\u001B[0mpath\u001B[0m\u001B[1;33m.\u001B[0m\u001B[0mabspath\u001B[0m\u001B[1;33m(\u001B[0m\u001B[0m_path\u001B[0m\u001B[1;33m)\u001B[0m\u001B[1;33m\u001B[0m\u001B[1;33m\u001B[0m\u001B[0m\n\u001B[0;32m    311\u001B[0m         \u001B[1;32mif\u001B[0m \u001B[1;32mnot\u001B[0m \u001B[0mos\u001B[0m\u001B[1;33m.\u001B[0m\u001B[0mpath\u001B[0m\u001B[1;33m.\u001B[0m\u001B[0mexists\u001B[0m\u001B[1;33m(\u001B[0m\u001B[0m_path\u001B[0m\u001B[1;33m)\u001B[0m\u001B[1;33m:\u001B[0m\u001B[1;33m\u001B[0m\u001B[1;33m\u001B[0m\u001B[0m\n\u001B[1;32m--> 312\u001B[1;33m             \u001B[1;32mraise\u001B[0m \u001B[0mOSError\u001B[0m\u001B[1;33m(\u001B[0m\u001B[1;34m\"No such file or directory: %r\"\u001B[0m \u001B[1;33m%\u001B[0m \u001B[0m_path\u001B[0m\u001B[1;33m)\u001B[0m\u001B[1;33m\u001B[0m\u001B[1;33m\u001B[0m\u001B[0m\n\u001B[0m\u001B[0;32m    313\u001B[0m         \u001B[0mself\u001B[0m\u001B[1;33m.\u001B[0m\u001B[0m_path\u001B[0m \u001B[1;33m=\u001B[0m \u001B[0m_path\u001B[0m\u001B[1;33m\u001B[0m\u001B[1;33m\u001B[0m\u001B[0m\n\u001B[0;32m    314\u001B[0m \u001B[1;33m\u001B[0m\u001B[0m\n",
      "\u001B[1;31mOSError\u001B[0m: No such file or directory: 'C:\\\\Users\\\\param\\\\AppData\\\\Roaming\\\\nltk_data\\\\corpora\\\\treebank\\\\combined\\\\hello.mrg'"
     ]
    }
   ],
   "source": [
    "from nltk.corpus import treebank\n",
    "treebank.parsed_sents(\"hello.mrg\")[0]\n"
   ],
   "metadata": {
    "collapsed": false,
    "pycharm": {
     "name": "#%%\n"
    }
   }
  }
 ],
 "metadata": {
  "kernelspec": {
   "display_name": "Python 3",
   "language": "python",
   "name": "python3"
  },
  "language_info": {
   "codemirror_mode": {
    "name": "ipython",
    "version": 2
   },
   "file_extension": ".py",
   "mimetype": "text/x-python",
   "name": "python",
   "nbconvert_exporter": "python",
   "pygments_lexer": "ipython2",
   "version": "2.7.6"
  }
 },
 "nbformat": 4,
 "nbformat_minor": 0
}