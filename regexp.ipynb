{
 "cells": [
  {
   "cell_type": "code",
   "execution_count": null,
   "outputs": [],
   "source": [
    "# . is wildcard\n",
    "# ^ is start of string\n",
    "# $ is end of string\n",
    "# [] match one of character within square bracker\n",
    "# [a-z] one of range a-z\n",
    "# [^abc] not a,b,c\n",
    "# a | b: a or b\n",
    "#() scoping for operators\n",
    "#\\ escape characters\n",
    "#\\b: word boundary\n",
    "#\\d: any single digit\n",
    "#\\D: any non-digit\n",
    "#\\s: any white space character\n",
    "#\\S: any not white space character\n",
    "#\\w: any alphanumeric character\n",
    "#\\W: any non alpha numeric character\n",
    "#*: matches zero or more occurences\n",
    "#+: matches one or more occurences\n",
    "#?: matches zero times or once\n",
    "#{n}: matches exactly n times\n",
    "#{n,}: matches at least n times\n",
    "#{,m}: at most m times\n",
    "#{n,m}: at least n times t most m times\n"
   ],
   "metadata": {
    "collapsed": false,
    "pycharm": {
     "name": "#%%\n"
    }
   }
  }
 ],
 "metadata": {
  "kernelspec": {
   "display_name": "Python 3",
   "language": "python",
   "name": "python3"
  },
  "language_info": {
   "codemirror_mode": {
    "name": "ipython",
    "version": 2
   },
   "file_extension": ".py",
   "mimetype": "text/x-python",
   "name": "python",
   "nbconvert_exporter": "python",
   "pygments_lexer": "ipython2",
   "version": "2.7.6"
  }
 },
 "nbformat": 4,
 "nbformat_minor": 0
}